{
 "cells": [
  {
   "cell_type": "code",
   "execution_count": 1,
   "outputs": [],
   "source": [
    "import torch\n",
    "from torch import nn\n",
    "from einops.layers.torch import Rearrange\n",
    "from einops import rearrange\n",
    "from model import createFreqBands, torch_mdct\n",
    "import torch.nn.functional as F\n",
    "\n",
    "x = torch.rand((2,2,44100*6))"
   ],
   "metadata": {
    "collapsed": false
   }
  },
  {
   "cell_type": "code",
   "execution_count": 2,
   "outputs": [
    {
     "name": "stdout",
     "output_type": "stream",
     "text": [
      "KBD Window: 2048\n",
      "audio_shape: (2, 264600)\n",
      "batch: 0 channel: 0\n",
      "num_times: 260\n",
      "batch: 0 channel: 1\n",
      "num_times: 260\n"
     ]
    }
   ],
   "source": [
    "x_mdct = torch_mdct(x[0],2048)"
   ],
   "metadata": {
    "collapsed": false
   }
  },
  {
   "cell_type": "code",
   "execution_count": 3,
   "outputs": [
    {
     "data": {
      "text/plain": "torch.Size([2, 1023, 260])"
     },
     "execution_count": 3,
     "metadata": {},
     "output_type": "execute_result"
    }
   ],
   "source": [
    "x_mdct.shape"
   ],
   "metadata": {
    "collapsed": false
   }
  },
  {
   "cell_type": "code",
   "execution_count": 4,
   "metadata": {
    "collapsed": true
   },
   "outputs": [],
   "source": [
    "class BandSplitModule(nn.Module):\n",
    "    def __init__(self, sample_rate, n_fft, channels=2,\n",
    "                 fc_dim=128, bands=[1000, 4000, 8000, 16000, 20000],\n",
    "                 num_subBands=[10, 12, 8, 8, 2, 1]):\n",
    "        super().__init__()\n",
    "\n",
    "        self.bands = createFreqBands(sample_rate, n_fft, bands, num_subBands)\n",
    "        self.band_intervals = self.bands[1:] - self.bands[:-1]\n",
    "        self.channels = channels\n",
    "\n",
    "        self.layer_list = nn.ModuleList([\n",
    "            nn.Sequential(\n",
    "                Rearrange('b f t c -> b t (f c)', c=self.channels),\n",
    "                nn.LayerNorm(band_interval * channels),\n",
    "                nn.Linear(channels * band_interval, channels * fc_dim),\n",
    "                # Rearrange('b t n -> b n 1 t')\n",
    "            )\n",
    "            for band_interval in self.band_intervals\n",
    "        ])\n",
    "\n",
    "    def forward(self, spec):\n",
    "        # spec format: (b, f, t, channel) #Mono or stereo channels\n",
    "        spec_bands = [spec[:, self.bands[i]:self.bands[i + 1]] for i in range(len(self.bands) - 1)]\n",
    "        outputs = []\n",
    "        for spec_band, layer in zip(spec_bands, self.layer_list):\n",
    "            output = layer(spec_band)\n",
    "            outputs.append(output)\n",
    "        outputs = torch.cat(outputs, dim=-2)\n",
    "        return outputs"
   ]
  },
  {
   "cell_type": "code",
   "execution_count": 5,
   "outputs": [],
   "source": [
    "bands = [1000, 4000, 8000, 16000, 20000]\n",
    "num_subBands = [10, 12, 8, 8, 2, 1]\n",
    "sample_rate = 44100\n",
    "n_fft = 2048\n",
    "channels = 2\n",
    "fc_dim = 128\n",
    "bandSplitter = BandSplitModule(sample_rate=sample_rate, n_fft=n_fft, channels=channels,\n",
    "                                            fc_dim=fc_dim, bands=bands, num_subBands=num_subBands)"
   ],
   "metadata": {
    "collapsed": false
   }
  },
  {
   "cell_type": "code",
   "execution_count": 6,
   "outputs": [],
   "source": [
    "freqBands = createFreqBands(sample_rate,n_fft,bands,num_subBands)\n",
    "band_intervals = freqBands[1:]-freqBands[:-1]"
   ],
   "metadata": {
    "collapsed": false
   }
  },
  {
   "cell_type": "code",
   "execution_count": 7,
   "outputs": [],
   "source": [
    "x_mdct_rearrange = rearrange(x_mdct,'(b c) f t -> b f t c', c=channels)"
   ],
   "metadata": {
    "collapsed": false
   }
  },
  {
   "cell_type": "code",
   "execution_count": 9,
   "outputs": [],
   "source": [
    "spec_bands = [x_mdct_rearrange[:,freqBands[i]:freqBands[i+1]] for i in range(len(freqBands)-1)]"
   ],
   "metadata": {
    "collapsed": false
   }
  },
  {
   "cell_type": "code",
   "execution_count": 12,
   "outputs": [
    {
     "name": "stdout",
     "output_type": "stream",
     "text": [
      "1 torch.Size([1, 4, 260, 2])\n",
      "2 torch.Size([1, 5, 260, 2])\n",
      "3 torch.Size([1, 4, 260, 2])\n",
      "4 torch.Size([1, 5, 260, 2])\n",
      "5 torch.Size([1, 5, 260, 2])\n",
      "6 torch.Size([1, 4, 260, 2])\n",
      "7 torch.Size([1, 5, 260, 2])\n",
      "8 torch.Size([1, 4, 260, 2])\n",
      "9 torch.Size([1, 5, 260, 2])\n",
      "10 torch.Size([1, 5, 260, 2])\n",
      "11 torch.Size([1, 11, 260, 2])\n",
      "12 torch.Size([1, 12, 260, 2])\n",
      "13 torch.Size([1, 11, 260, 2])\n",
      "14 torch.Size([1, 12, 260, 2])\n",
      "15 torch.Size([1, 11, 260, 2])\n",
      "16 torch.Size([1, 12, 260, 2])\n",
      "17 torch.Size([1, 12, 260, 2])\n",
      "18 torch.Size([1, 11, 260, 2])\n",
      "19 torch.Size([1, 12, 260, 2])\n",
      "20 torch.Size([1, 11, 260, 2])\n",
      "21 torch.Size([1, 12, 260, 2])\n",
      "22 torch.Size([1, 12, 260, 2])\n",
      "23 torch.Size([1, 23, 260, 2])\n",
      "24 torch.Size([1, 23, 260, 2])\n",
      "25 torch.Size([1, 23, 260, 2])\n",
      "26 torch.Size([1, 24, 260, 2])\n",
      "27 torch.Size([1, 23, 260, 2])\n",
      "28 torch.Size([1, 23, 260, 2])\n",
      "29 torch.Size([1, 23, 260, 2])\n",
      "30 torch.Size([1, 24, 260, 2])\n",
      "31 torch.Size([1, 46, 260, 2])\n",
      "32 torch.Size([1, 47, 260, 2])\n",
      "33 torch.Size([1, 46, 260, 2])\n",
      "34 torch.Size([1, 47, 260, 2])\n",
      "35 torch.Size([1, 46, 260, 2])\n",
      "36 torch.Size([1, 47, 260, 2])\n",
      "37 torch.Size([1, 46, 260, 2])\n",
      "38 torch.Size([1, 47, 260, 2])\n",
      "39 torch.Size([1, 92, 260, 2])\n",
      "40 torch.Size([1, 93, 260, 2])\n",
      "41 torch.Size([1, 95, 260, 2])\n"
     ]
    }
   ],
   "source": [
    "outputs = []\n",
    "i = 0\n",
    "for spec_band,band_interval in zip(spec_bands,band_intervals):\n",
    "    print(i+1,spec_band.shape)\n",
    "    i+=1\n",
    "    f1 = rearrange(spec_band,'b f t c -> b t (f c)',c=channels)\n",
    "    f2 = F.layer_norm(f1,[band_interval*channels])\n",
    "    lin_layer = nn.Linear(channels*band_interval,channels*fc_dim)\n",
    "    f3 = lin_layer(f2)\n",
    "    f4 = rearrange(f3,'b t n -> b n 1 t')\n",
    "    outputs.append(f4)"
   ],
   "metadata": {
    "collapsed": false
   }
  },
  {
   "cell_type": "markdown",
   "source": [
    "Mask Estimation Fix"
   ],
   "metadata": {
    "collapsed": false
   }
  },
  {
   "cell_type": "code",
   "execution_count": 1,
   "outputs": [],
   "source": [
    "import torch\n",
    "from torch import nn\n",
    "from einops.layers.torch import Rearrange\n",
    "from einops import rearrange\n",
    "from model import createFreqBands, torch_mdct\n",
    "import torch.nn.functional as F\n",
    "\n",
    "x = torch.rand([2,256,41,260])"
   ],
   "metadata": {
    "collapsed": false
   }
  },
  {
   "cell_type": "code",
   "execution_count": 2,
   "outputs": [],
   "source": [
    "bands = [1000, 4000, 8000, 16000, 20000]\n",
    "num_subBands = [10, 12, 8, 8, 2, 1]\n",
    "sample_rate = 44100\n",
    "n_fft = 2048\n",
    "channels = 2\n",
    "fc_dim = 128\n",
    "freqBands = createFreqBands(sample_rate,n_fft,bands,num_subBands)\n",
    "band_intervals = freqBands[1:]-freqBands[:-1]"
   ],
   "metadata": {
    "collapsed": false
   }
  },
  {
   "cell_type": "code",
   "execution_count": 23,
   "outputs": [
    {
     "name": "stdout",
     "output_type": "stream",
     "text": [
      "torch.Size([4, 4, 260])\n",
      "torch.Size([4, 5, 260])\n",
      "torch.Size([4, 4, 260])\n",
      "torch.Size([4, 5, 260])\n",
      "torch.Size([4, 5, 260])\n",
      "torch.Size([4, 4, 260])\n",
      "torch.Size([4, 5, 260])\n",
      "torch.Size([4, 4, 260])\n",
      "torch.Size([4, 5, 260])\n",
      "torch.Size([4, 5, 260])\n",
      "torch.Size([4, 11, 260])\n",
      "torch.Size([4, 12, 260])\n",
      "torch.Size([4, 11, 260])\n",
      "torch.Size([4, 12, 260])\n",
      "torch.Size([4, 11, 260])\n",
      "torch.Size([4, 12, 260])\n",
      "torch.Size([4, 12, 260])\n",
      "torch.Size([4, 11, 260])\n",
      "torch.Size([4, 12, 260])\n",
      "torch.Size([4, 11, 260])\n",
      "torch.Size([4, 12, 260])\n",
      "torch.Size([4, 12, 260])\n",
      "torch.Size([4, 23, 260])\n",
      "torch.Size([4, 23, 260])\n",
      "torch.Size([4, 23, 260])\n",
      "torch.Size([4, 24, 260])\n",
      "torch.Size([4, 23, 260])\n",
      "torch.Size([4, 23, 260])\n",
      "torch.Size([4, 23, 260])\n",
      "torch.Size([4, 24, 260])\n",
      "torch.Size([4, 46, 260])\n",
      "torch.Size([4, 47, 260])\n",
      "torch.Size([4, 46, 260])\n",
      "torch.Size([4, 47, 260])\n",
      "torch.Size([4, 46, 260])\n",
      "torch.Size([4, 47, 260])\n",
      "torch.Size([4, 46, 260])\n",
      "torch.Size([4, 47, 260])\n",
      "torch.Size([4, 92, 260])\n",
      "torch.Size([4, 93, 260])\n",
      "torch.Size([4, 95, 260])\n"
     ]
    }
   ],
   "source": [
    "outputs = []\n",
    "for i in range(len(band_intervals)):\n",
    "    f1 = rearrange(x[:,:,i,:],'b n t -> b t n')\n",
    "    # print(f1.shape)\n",
    "    f2 = F.layer_norm(f1,[2*fc_dim])\n",
    "    lin_layer1 = nn.Linear(2*fc_dim,4*fc_dim)\n",
    "    lin_layer2 = nn.Linear(4*fc_dim,band_intervals[i]*channels)\n",
    "    f3 = lin_layer1(f2)\n",
    "    f4 = torch.tanh(f3)\n",
    "    f5 = lin_layer2(f4)\n",
    "    f6 = rearrange(f5, 'b t (f c) -> (b c) f t',c=channels)\n",
    "    print(f6.shape)\n",
    "    outputs.append(f6)"
   ],
   "metadata": {
    "collapsed": false
   }
  },
  {
   "cell_type": "code",
   "execution_count": 29,
   "outputs": [],
   "source": [
    "mask = torch.cat(outputs,dim=-2)"
   ],
   "metadata": {
    "collapsed": false
   }
  },
  {
   "cell_type": "code",
   "execution_count": 1,
   "outputs": [
    {
     "ename": "NameError",
     "evalue": "name 'mask' is not defined",
     "output_type": "error",
     "traceback": [
      "\u001B[0;31m---------------------------------------------------------------------------\u001B[0m",
      "\u001B[0;31mNameError\u001B[0m                                 Traceback (most recent call last)",
      "Cell \u001B[0;32mIn[1], line 1\u001B[0m\n\u001B[0;32m----> 1\u001B[0m \u001B[43mmask\u001B[49m\u001B[38;5;241m.\u001B[39mshape\n",
      "\u001B[0;31mNameError\u001B[0m: name 'mask' is not defined"
     ]
    }
   ],
   "source": [
    "mask.shape"
   ],
   "metadata": {
    "collapsed": false
   }
  }
 ],
 "metadata": {
  "kernelspec": {
   "display_name": "Python 3",
   "language": "python",
   "name": "python3"
  },
  "language_info": {
   "codemirror_mode": {
    "name": "ipython",
    "version": 2
   },
   "file_extension": ".py",
   "mimetype": "text/x-python",
   "name": "python",
   "nbconvert_exporter": "python",
   "pygments_lexer": "ipython2",
   "version": "2.7.6"
  }
 },
 "nbformat": 4,
 "nbformat_minor": 0
}
