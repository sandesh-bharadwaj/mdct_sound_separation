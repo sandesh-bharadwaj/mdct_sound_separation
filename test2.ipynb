{
 "cells": [
  {
   "cell_type": "code",
   "execution_count": 1,
   "metadata": {
    "collapsed": true
   },
   "outputs": [],
   "source": [
    "import torch\n",
    "import torch.nn as nn\n",
    "import numpy as np\n",
    "\n",
    "from model import BandSplitModule, BandSequenceModelingModule, MaskEstimationModule, torch_mdct, createFreqBands"
   ]
  },
  {
   "cell_type": "code",
   "execution_count": 2,
   "outputs": [],
   "source": [
    "x = torch.rand((2,2,44100*6))"
   ],
   "metadata": {
    "collapsed": false
   }
  },
  {
   "cell_type": "code",
   "execution_count": 3,
   "outputs": [],
   "source": [
    "from einops import rearrange"
   ],
   "metadata": {
    "collapsed": false
   }
  },
  {
   "cell_type": "code",
   "execution_count": 4,
   "outputs": [
    {
     "name": "stdout",
     "output_type": "stream",
     "text": [
      "KBD Window: 2048\n"
     ]
    }
   ],
   "source": [
    "b,c,t = x.shape\n",
    "wav = rearrange(x,'b c t -> (b c) t')\n",
    "spec = torch_mdct(wav,window_length=2048,window_type='kbd')\n",
    "spec_ = rearrange(spec, '(b c) f t -> b f t c', c=2)\n",
    "\n",
    "# Modules\n",
    "bandsplitter = BandSplitModule(sample_rate=44100,n_fft=2048,channels=2,fc_dim=128, bands=[1000, 4000, 8000, 16000, 20000], num_subBands=[10, 12, 8 , 8, 2, 1])\n",
    "bandSequencer = nn.Sequential(*[BandSequenceModelingModule(channels=2, fc_dim=128, num_subBands=[10, 12, 8 , 8, 2, 1]) for _ in range(12)])\n",
    "maskEstimator = MaskEstimationModule(44100,2048)\n",
    "\n",
    "# Continue\n",
    "z = bandsplitter(spec_)\n",
    "q = bandSequencer(z)\n",
    "mask = maskEstimator(q)"
   ],
   "metadata": {
    "collapsed": false
   }
  },
  {
   "cell_type": "code",
   "execution_count": 5,
   "outputs": [
    {
     "data": {
      "text/plain": "torch.Size([4, 1023, 260])"
     },
     "execution_count": 5,
     "metadata": {},
     "output_type": "execute_result"
    }
   ],
   "source": [
    "spec.shape"
   ],
   "metadata": {
    "collapsed": false
   }
  },
  {
   "cell_type": "code",
   "execution_count": 6,
   "outputs": [
    {
     "data": {
      "text/plain": "torch.Size([4, 1023, 260])"
     },
     "execution_count": 6,
     "metadata": {},
     "output_type": "execute_result"
    }
   ],
   "source": [
    "(spec*mask).shape"
   ],
   "metadata": {
    "collapsed": false
   }
  },
  {
   "cell_type": "code",
   "execution_count": 7,
   "outputs": [],
   "source": [
    "est_spec = spec*mask"
   ],
   "metadata": {
    "collapsed": false
   }
  },
  {
   "cell_type": "code",
   "execution_count": 8,
   "outputs": [],
   "source": [
    "from model import torch_imdct"
   ],
   "metadata": {
    "collapsed": false
   }
  },
  {
   "cell_type": "code",
   "execution_count": 9,
   "outputs": [],
   "source": [
    "est_wav = torch_imdct(est_spec,sample_length=6*44100,window_length=2048)"
   ],
   "metadata": {
    "collapsed": false
   }
  },
  {
   "cell_type": "code",
   "execution_count": 12,
   "outputs": [],
   "source": [
    "est_wav_rearrange = rearrange(est_wav,'(b c) t -> b c t',b=2,c=2)"
   ],
   "metadata": {
    "collapsed": false
   }
  },
  {
   "cell_type": "code",
   "execution_count": 17,
   "outputs": [
    {
     "data": {
      "text/plain": "torch.Size([2, 2, 264600])"
     },
     "execution_count": 17,
     "metadata": {},
     "output_type": "execute_result"
    }
   ],
   "source": [
    "est_wav_rearrange[:,:,:t].shape"
   ],
   "metadata": {
    "collapsed": false
   }
  },
  {
   "cell_type": "code",
   "execution_count": 19,
   "outputs": [
    {
     "data": {
      "text/plain": "torch.Size([4, 1023, 260])"
     },
     "execution_count": 19,
     "metadata": {},
     "output_type": "execute_result"
    }
   ],
   "source": [
    "est_spec.shape"
   ],
   "metadata": {
    "collapsed": false
   }
  },
  {
   "cell_type": "code",
   "execution_count": 10,
   "outputs": [
    {
     "ename": "ValueError",
     "evalue": "not enough values to unpack (expected 2, got 1)",
     "output_type": "error",
     "traceback": [
      "\u001B[0;31m---------------------------------------------------------------------------\u001B[0m",
      "\u001B[0;31mValueError\u001B[0m                                Traceback (most recent call last)",
      "Cell \u001B[0;32mIn[10], line 1\u001B[0m\n\u001B[0;32m----> 1\u001B[0m \u001B[43mtorch_imdct\u001B[49m\u001B[43m(\u001B[49m\u001B[43mspec\u001B[49m\u001B[43m[\u001B[49m\u001B[38;5;241;43m0\u001B[39;49m\u001B[43m]\u001B[49m\u001B[43m,\u001B[49m\u001B[43msample_length\u001B[49m\u001B[38;5;241;43m=\u001B[39;49m\u001B[38;5;241;43m6\u001B[39;49m\u001B[38;5;241;43m*\u001B[39;49m\u001B[38;5;241;43m44100\u001B[39;49m\u001B[43m,\u001B[49m\u001B[43mwindow_length\u001B[49m\u001B[38;5;241;43m=\u001B[39;49m\u001B[38;5;241;43m2048\u001B[39;49m\u001B[43m)\u001B[49m\u001B[38;5;241m.\u001B[39mshape\n",
      "File \u001B[0;32m~/sdx2023/bsrnn/bsrnn_modified.py:244\u001B[0m, in \u001B[0;36mtorch_imdct\u001B[0;34m(input_mdct, sample_length, window_length, window_type)\u001B[0m\n\u001B[1;32m    243\u001B[0m \u001B[38;5;28;01mdef\u001B[39;00m \u001B[38;5;21mtorch_imdct\u001B[39m(input_mdct, sample_length, window_length, window_type\u001B[38;5;241m=\u001B[39m\u001B[38;5;124m'\u001B[39m\u001B[38;5;124mkbd\u001B[39m\u001B[38;5;124m'\u001B[39m):\n\u001B[0;32m--> 244\u001B[0m     \u001B[38;5;28;01mreturn\u001B[39;00m \u001B[43mimdctFunc\u001B[49m\u001B[38;5;241;43m.\u001B[39;49m\u001B[43mapply\u001B[49m\u001B[43m(\u001B[49m\u001B[43minput_mdct\u001B[49m\u001B[43m,\u001B[49m\u001B[43m \u001B[49m\u001B[43msample_length\u001B[49m\u001B[43m,\u001B[49m\u001B[43m \u001B[49m\u001B[43mwindow_length\u001B[49m\u001B[43m,\u001B[49m\u001B[43m \u001B[49m\u001B[43mwindow_type\u001B[49m\u001B[43m)\u001B[49m\n",
      "File \u001B[0;32m~/sdx2023/bsrnn/bsrnn_modified.py:235\u001B[0m, in \u001B[0;36mimdctFunc.forward\u001B[0;34m(ctx, input_mdct, sample_length, window_length, window_type)\u001B[0m\n\u001B[1;32m    233\u001B[0m result \u001B[38;5;241m=\u001B[39m []\n\u001B[1;32m    234\u001B[0m \u001B[38;5;28;01mfor\u001B[39;00m i \u001B[38;5;129;01min\u001B[39;00m \u001B[38;5;28mrange\u001B[39m(input_spec\u001B[38;5;241m.\u001B[39mshape[\u001B[38;5;241m0\u001B[39m]):\n\u001B[0;32m--> 235\u001B[0m     result\u001B[38;5;241m.\u001B[39mappend(\u001B[43mimdct\u001B[49m\u001B[43m(\u001B[49m\u001B[43minput_spec\u001B[49m\u001B[43m[\u001B[49m\u001B[43mi\u001B[49m\u001B[43m]\u001B[49m\u001B[43m,\u001B[49m\u001B[43m \u001B[49m\u001B[43mwindow_function\u001B[49m\u001B[38;5;241;43m=\u001B[39;49m\u001B[43mwin_func\u001B[49m\u001B[43m)\u001B[49m)\n\u001B[1;32m    236\u001B[0m \u001B[38;5;28;01mreturn\u001B[39;00m input_mdct\u001B[38;5;241m.\u001B[39mnew(np\u001B[38;5;241m.\u001B[39mstack(result))\n",
      "File \u001B[0;32m~/sdx2023/bsrnn/bsrnn_modified.py:386\u001B[0m, in \u001B[0;36mimdct\u001B[0;34m(audio_mdct, window_function)\u001B[0m\n\u001B[1;32m    340\u001B[0m \u001B[38;5;250m\u001B[39m\u001B[38;5;124;03m\"\"\"\u001B[39;00m\n\u001B[1;32m    341\u001B[0m \u001B[38;5;124;03mCompute the inverse modified discrete cosine transform (MDCT) using the fast Fourier transform (FFT).\u001B[39;00m\n\u001B[1;32m    342\u001B[0m \n\u001B[0;32m   (...)\u001B[0m\n\u001B[1;32m    382\u001B[0m \u001B[38;5;124;03m    plt.show()\u001B[39;00m\n\u001B[1;32m    383\u001B[0m \u001B[38;5;124;03m\"\"\"\u001B[39;00m\n\u001B[1;32m    385\u001B[0m \u001B[38;5;66;03m# Get the number of frequency channels and time frames\u001B[39;00m\n\u001B[0;32m--> 386\u001B[0m number_frequencies, number_times \u001B[38;5;241m=\u001B[39m np\u001B[38;5;241m.\u001B[39mshape(audio_mdct)\n\u001B[1;32m    388\u001B[0m \u001B[38;5;66;03m# Derive the window length and the step length in samples (for clarity)\u001B[39;00m\n\u001B[1;32m    389\u001B[0m window_length \u001B[38;5;241m=\u001B[39m \u001B[38;5;241m2\u001B[39m \u001B[38;5;241m*\u001B[39m number_frequencies\n",
      "\u001B[0;31mValueError\u001B[0m: not enough values to unpack (expected 2, got 1)"
     ]
    }
   ],
   "source": [
    "torch_imdct(spec[0],sample_length=6*44100,window_length=2048).shape"
   ],
   "metadata": {
    "collapsed": false
   }
  }
 ],
 "metadata": {
  "kernelspec": {
   "display_name": "Python 3",
   "language": "python",
   "name": "python3"
  },
  "language_info": {
   "codemirror_mode": {
    "name": "ipython",
    "version": 2
   },
   "file_extension": ".py",
   "mimetype": "text/x-python",
   "name": "python",
   "nbconvert_exporter": "python",
   "pygments_lexer": "ipython2",
   "version": "2.7.6"
  }
 },
 "nbformat": 4,
 "nbformat_minor": 0
}
