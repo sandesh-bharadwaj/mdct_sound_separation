{
 "cells": [
  {
   "cell_type": "code",
   "execution_count": 1,
   "id": "4a99ff34",
   "metadata": {},
   "outputs": [],
   "source": [
    "from model import BSRNN\n",
    "import torch\n",
    "from utils import torch_mdct, torch_imdct, calc_loss\n",
    "from dataset import CLIPSDXDataset\n",
    "import os"
   ]
  },
  {
   "cell_type": "code",
   "execution_count": 2,
   "id": "090e3015",
   "metadata": {},
   "outputs": [],
   "source": [
    "gpus = [0]\n",
    "os.environ['CUDA_DEVICE_ORDER'] = \"PCI_BUS_ID\"\n",
    "os.environ['CUDA_VISIBLE_DEVICES'] = ','.join(list(map(str, gpus)))"
   ]
  },
  {
   "cell_type": "code",
   "execution_count": 3,
   "id": "fa5c7e5b",
   "metadata": {},
   "outputs": [
    {
     "name": "stderr",
     "output_type": "stream",
     "text": [
      "196it [00:00, 2041.19it/s]\n",
      "7it [00:00, 11379.89it/s]\n"
     ]
    }
   ],
   "source": [
    "data_dir = \"/mnt/BigChonk/LinuxDownloads/moisesdb23_bleeding_v1.0_prepared\"\n",
    "interferer_files = ['bass.wav','other.wav','drums.wav']\n",
    "model = BSRNN(target_stem=\"vocals\",sample_rate=44100,n_fft=2048,\n",
    "              hop_length=512,channels=2,fc_dim=128,\n",
    "              num_band_seq_module=12,num_mixtures=2)\n",
    "train_dataset = CLIPSDXDataset(root=data_dir,interferer_files = interferer_files,\n",
    "                              seq_duration=1, random_chunks=True)\n",
    "valid_dataset = CLIPSDXDataset(root=data_dir, split=\"valid\", interferer_files=interferer_files)\n",
    "train_loader = torch.utils.data.DataLoader(train_dataset, \n",
    "                                           batch_size=4, shuffle=True,\n",
    "                                           num_workers=16,drop_last=True\n",
    "                                          )\n",
    "# valid_loader = torch.utils.data.DataLoader(valid_dataset,\n",
    "#                                            batch_size=1, shuffle=False,\n",
    "#                                            num_workers = 16\n",
    "#                                           )\n",
    "optimizer = torch.optim.Adam(model.parameters(), lr=0.001)"
   ]
  },
  {
   "cell_type": "code",
   "execution_count": 4,
   "id": "6888dcfc",
   "metadata": {},
   "outputs": [],
   "source": [
    "device = torch.device('cuda:0' if torch.cuda.is_available() else 'cpu')"
   ]
  },
  {
   "cell_type": "code",
   "execution_count": 5,
   "id": "fcb4da3d",
   "metadata": {
    "scrolled": true
   },
   "outputs": [
    {
     "name": "stdout",
     "output_type": "stream",
     "text": [
      "cuda:0\n"
     ]
    }
   ],
   "source": [
    "model = torch.nn.DataParallel(model)\n",
    "model.to(device)\n",
    "print(next(model.parameters()).device)"
   ]
  },
  {
   "cell_type": "code",
   "execution_count": 6,
   "id": "1c39f4f0",
   "metadata": {},
   "outputs": [],
   "source": [
    "train_batch = next(iter(train_loader))\n",
    "mixture, sources, target_stems = [i.to(device) for i in train_batch]"
   ]
  },
  {
   "cell_type": "code",
   "execution_count": 7,
   "id": "0f5fca8d",
   "metadata": {},
   "outputs": [],
   "source": [
    "from einops import rearrange\n",
    "def prepare_input_wav(wav):\n",
    "    wav = rearrange(wav,'b c t -> (b c) t')\n",
    "    spec = torch_mdct(wav, window_length=2048,window_type='kbd')\n",
    "    spec = rearrange(spec, '(b c) f t -> b f t c', c = 2)\n",
    "    return spec\n",
    "\n",
    "def extract_output(spec,mask,mix_args):\n",
    "    b, c, t = mix_args\n",
    "    spec = rearrange(spec, 'b f t c -> (b c) f t ', c = 2)\n",
    "    est_specs = []\n",
    "    est_wavs = []\n",
    "    for i in range(mask.shape[0]):\n",
    "        est_spec = mask[i] * spec\n",
    "        est_wav = torch_imdct(est_spec, sample_length=t, window_length=2048,\n",
    "                              window_type='kbd')\n",
    "        est_wav = rearrange(est_wav, '(b c) t -> b c t', b=b, c=c)\n",
    "        est_wav = est_wav[:, :, :t]\n",
    "        est_spec = rearrange(est_spec, '(b c) f t -> b c f t', c=c)\n",
    "        est_specs.append(est_spec)\n",
    "        est_wavs.append(est_wav)\n",
    "    est_specs = torch.stack(est_specs)\n",
    "    est_wavs = torch.stack(est_wavs)\n",
    "    return est_specs, est_wavs\n",
    "\n",
    "def calculate_gt_masks_mixOfMix(sources, target_stems):\n",
    "    gt_masks = []\n",
    "    for j in range(2):\n",
    "        mix_spec = rearrange(prepare_input_wav(sources[:, j]), 'b f t c -> (b c) f t')\n",
    "        target_spec = rearrange(prepare_input_wav(target_stems[:, j]), 'b f t c -> (b c) f t')\n",
    "        gt_mask = target_spec / mix_spec\n",
    "        gt_masks.append(gt_mask)\n",
    "    gt_masks = torch.stack(gt_masks)\n",
    "    return gt_masks"
   ]
  },
  {
   "cell_type": "code",
   "execution_count": 8,
   "id": "b7d5e192",
   "metadata": {},
   "outputs": [
    {
     "name": "stdout",
     "output_type": "stream",
     "text": [
      "Batch size: 4\n",
      "Batch size: 4\n",
      "Batch size: 4\n",
      "Batch size: 4\n",
      "Batch size: 4\n",
      "Batch size: 4\n",
      "Batch size: 4\n",
      "Batch size: 4\n",
      "Batch size: 4\n",
      "Batch size: 4\n",
      "Batch size: 4\n",
      "Batch size: 4\n",
      "Batch size: 4\n",
      "Batch size: 4\n",
      "Batch size: 4\n",
      "Batch size: 4\n",
      "Batch size: 4\n",
      "Batch size: 4\n",
      "Batch size: 4\n",
      "Batch size: 4\n",
      "Batch size: 4\n",
      "Batch size: 4\n",
      "Batch size: 4\n",
      "Batch size: 4\n",
      "Batch size: 4\n",
      "Batch size: 4\n",
      "Batch size: 4\n",
      "Batch size: 4\n",
      "Batch size: 4\n",
      "Batch size: 4\n",
      "Batch size: 4\n",
      "Batch size: 4\n",
      "Batch size: 4\n",
      "Batch size: 4\n",
      "Batch size: 4\n",
      "Batch size: 4\n",
      "Batch size: 4\n",
      "Batch size: 4\n",
      "Batch size: 4\n",
      "Batch size: 4\n",
      "Batch size: 4\n",
      "Outputs before : torch.Size([32, 1023, 45])\n",
      "Outputs after : torch.Size([4, 8, 1023, 45])\n"
     ]
    }
   ],
   "source": [
    "mixture_spec = prepare_input_wav(mixture)\n",
    "\n",
    "pred_mask = model(mixture_spec)"
   ]
  },
  {
   "cell_type": "code",
   "execution_count": 9,
   "id": "b6b36b39",
   "metadata": {},
   "outputs": [
    {
     "name": "stdout",
     "output_type": "stream",
     "text": [
      "torch.Size([4, 8, 1023, 45])\n"
     ]
    }
   ],
   "source": [
    "print(pred_mask.shape)"
   ]
  },
  {
   "cell_type": "code",
   "execution_count": 9,
   "id": "85c58ad5",
   "metadata": {},
   "outputs": [],
   "source": []
  }
 ],
 "metadata": {
  "kernelspec": {
   "display_name": "Python 3 (ipykernel)",
   "language": "python",
   "name": "python3"
  },
  "language_info": {
   "codemirror_mode": {
    "name": "ipython",
    "version": 3
   },
   "file_extension": ".py",
   "mimetype": "text/x-python",
   "name": "python",
   "nbconvert_exporter": "python",
   "pygments_lexer": "ipython3",
   "version": "3.9.16"
  }
 },
 "nbformat": 4,
 "nbformat_minor": 5
}
